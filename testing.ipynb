{
 "cells": [
  {
   "attachments": {},
   "cell_type": "markdown",
   "metadata": {},
   "source": [
    "See [surveymonkey doubleheader fixing blog](https://www.mattroumaya.com/posts/dealing-with-doubleheadr/)"
   ]
  },
  {
   "cell_type": "code",
   "execution_count": 1,
   "metadata": {
    "vscode": {
     "languageId": "r"
    }
   },
   "outputs": [
    {
     "name": "stderr",
     "output_type": "stream",
     "text": [
      "Skipping install of 'doubleheadr' from a github remote, the SHA1 (6ac75fed) has not changed since last install.\n",
      "  Use `force = TRUE` to force installation\n",
      "\n"
     ]
    }
   ],
   "source": [
    "devtools::install_github('mattroumaya/doubleheadr')"
   ]
  },
  {
   "cell_type": "code",
   "execution_count": 5,
   "metadata": {
    "vscode": {
     "languageId": "r"
    }
   },
   "outputs": [],
   "source": [
    "library(doubleheadr)\n",
    "survey_data <- doubleheadr::demo\n",
    "survey_data_preserve <- doubleheadr::demo"
   ]
  },
  {
   "cell_type": "code",
   "execution_count": 6,
   "metadata": {
    "vscode": {
     "languageId": "r"
    }
   },
   "outputs": [],
   "source": [
    "library(tibble)"
   ]
  },
  {
   "cell_type": "code",
   "execution_count": 10,
   "metadata": {
    "vscode": {
     "languageId": "r"
    }
   },
   "outputs": [
    {
     "ename": "ERROR",
     "evalue": "Error in library(select): there is no package called ‘select’\n",
     "output_type": "error",
     "traceback": [
      "Error in library(select): there is no package called ‘select’\nTraceback:\n",
      "1. library(select)"
     ]
    }
   ],
   "source": [
    "library(select)"
   ]
  },
  {
   "cell_type": "code",
   "execution_count": 7,
   "metadata": {
    "vscode": {
     "languageId": "r"
    }
   },
   "outputs": [
    {
     "data": {
      "text/html": [
       "<table class=\"dataframe\">\n",
       "<caption>A tibble: 8 × 12</caption>\n",
       "<thead>\n",
       "\t<tr><th scope=col>Respondent ID</th><th scope=col>Please provide your contact information:</th><th scope=col>...3</th><th scope=col>...4</th><th scope=col>...5</th><th scope=col>...6</th><th scope=col>...7</th><th scope=col>...8</th><th scope=col>...9</th><th scope=col>...10</th><th scope=col>...11</th><th scope=col>I wish it would have snowed more this winter.</th></tr>\n",
       "\t<tr><th scope=col>&lt;dbl&gt;</th><th scope=col>&lt;chr&gt;</th><th scope=col>&lt;chr&gt;</th><th scope=col>&lt;chr&gt;</th><th scope=col>&lt;chr&gt;</th><th scope=col>&lt;chr&gt;</th><th scope=col>&lt;chr&gt;</th><th scope=col>&lt;chr&gt;</th><th scope=col>&lt;chr&gt;</th><th scope=col>&lt;chr&gt;</th><th scope=col>&lt;chr&gt;</th><th scope=col>&lt;chr&gt;</th></tr>\n",
       "</thead>\n",
       "<tbody>\n",
       "\t<tr><td>         NA</td><td>Name                </td><td>Company         </td><td>Address</td><td>Address 2</td><td>City/Town       </td><td>State/Province</td><td>ZIP/Postal Code</td><td>Country</td><td>Email Address       </td><td>Phone Number</td><td>Response                  </td></tr>\n",
       "\t<tr><td>11385284375</td><td>Benjamin Franklin   </td><td>Poor Richard's  </td><td>NA     </td><td>NA       </td><td>Philadelphia    </td><td>PA            </td><td>19104          </td><td>NA     </td><td>benjamins@gmail.com </td><td>215-555-4444</td><td>Strongly disagree         </td></tr>\n",
       "\t<tr><td>11385273621</td><td>Mae Jemison         </td><td>NASA            </td><td>NA     </td><td>NA       </td><td>Decatur         </td><td>Alabama       </td><td>20104          </td><td>NA     </td><td>mjemison@nasa.gov   </td><td>221-134-4646</td><td>Strongly agree            </td></tr>\n",
       "\t<tr><td>11385258069</td><td>Carl Sagan          </td><td>Smithsonian     </td><td>NA     </td><td>NA       </td><td>Washington      </td><td>D.C.          </td><td>33321          </td><td>NA     </td><td>stargazer@gmail.com </td><td>999-999-4422</td><td>Neither agree nor disagree</td></tr>\n",
       "\t<tr><td>11385253194</td><td>W. E. B. Du Bois    </td><td>NAACP           </td><td>NA     </td><td>NA       </td><td>Great Barrington</td><td>MA            </td><td>1230           </td><td>NA     </td><td>dubois@web.com      </td><td>999-000-1234</td><td>Strongly disagree         </td></tr>\n",
       "\t<tr><td>11385240121</td><td>Florence Nightingale</td><td>Public Health Co</td><td>NA     </td><td>NA       </td><td>Florence        </td><td>IT            </td><td>33225          </td><td>NA     </td><td>firstnurse@aol.com  </td><td>123-456-7899</td><td>Disagree                  </td></tr>\n",
       "\t<tr><td>11385226951</td><td>Galileo Galilei     </td><td>NASA            </td><td>NA     </td><td>NA       </td><td>Pisa            </td><td>IT            </td><td>12345          </td><td>NA     </td><td>galileo123@yahoo.com</td><td>111-888-9944</td><td>Agree                     </td></tr>\n",
       "\t<tr><td>11385212508</td><td>Albert Einstein     </td><td>ThinkTank       </td><td>NA     </td><td>NA       </td><td>Princeton       </td><td>NJ            </td><td>8540           </td><td>NA     </td><td>imthinking@gmail.com</td><td>215-999-8877</td><td>Strongly agree            </td></tr>\n",
       "</tbody>\n",
       "</table>\n"
      ],
      "text/latex": [
       "A tibble: 8 × 12\n",
       "\\begin{tabular}{llllllllllll}\n",
       " Respondent ID & Please provide your contact information: & ...3 & ...4 & ...5 & ...6 & ...7 & ...8 & ...9 & ...10 & ...11 & I wish it would have snowed more this winter.\\\\\n",
       " <dbl> & <chr> & <chr> & <chr> & <chr> & <chr> & <chr> & <chr> & <chr> & <chr> & <chr> & <chr>\\\\\n",
       "\\hline\n",
       "\t          NA & Name                 & Company          & Address & Address 2 & City/Town        & State/Province & ZIP/Postal Code & Country & Email Address        & Phone Number & Response                  \\\\\n",
       "\t 11385284375 & Benjamin Franklin    & Poor Richard's   & NA      & NA        & Philadelphia     & PA             & 19104           & NA      & benjamins@gmail.com  & 215-555-4444 & Strongly disagree         \\\\\n",
       "\t 11385273621 & Mae Jemison          & NASA             & NA      & NA        & Decatur          & Alabama        & 20104           & NA      & mjemison@nasa.gov    & 221-134-4646 & Strongly agree            \\\\\n",
       "\t 11385258069 & Carl Sagan           & Smithsonian      & NA      & NA        & Washington       & D.C.           & 33321           & NA      & stargazer@gmail.com  & 999-999-4422 & Neither agree nor disagree\\\\\n",
       "\t 11385253194 & W. E. B. Du Bois     & NAACP            & NA      & NA        & Great Barrington & MA             & 1230            & NA      & dubois@web.com       & 999-000-1234 & Strongly disagree         \\\\\n",
       "\t 11385240121 & Florence Nightingale & Public Health Co & NA      & NA        & Florence         & IT             & 33225           & NA      & firstnurse@aol.com   & 123-456-7899 & Disagree                  \\\\\n",
       "\t 11385226951 & Galileo Galilei      & NASA             & NA      & NA        & Pisa             & IT             & 12345           & NA      & galileo123@yahoo.com & 111-888-9944 & Agree                     \\\\\n",
       "\t 11385212508 & Albert Einstein      & ThinkTank        & NA      & NA        & Princeton        & NJ             & 8540            & NA      & imthinking@gmail.com & 215-999-8877 & Strongly agree            \\\\\n",
       "\\end{tabular}\n"
      ],
      "text/markdown": [
       "\n",
       "A tibble: 8 × 12\n",
       "\n",
       "| Respondent ID &lt;dbl&gt; | Please provide your contact information: &lt;chr&gt; | ...3 &lt;chr&gt; | ...4 &lt;chr&gt; | ...5 &lt;chr&gt; | ...6 &lt;chr&gt; | ...7 &lt;chr&gt; | ...8 &lt;chr&gt; | ...9 &lt;chr&gt; | ...10 &lt;chr&gt; | ...11 &lt;chr&gt; | I wish it would have snowed more this winter. &lt;chr&gt; |\n",
       "|---|---|---|---|---|---|---|---|---|---|---|---|\n",
       "|          NA | Name                 | Company          | Address | Address 2 | City/Town        | State/Province | ZIP/Postal Code | Country | Email Address        | Phone Number | Response                   |\n",
       "| 11385284375 | Benjamin Franklin    | Poor Richard's   | NA      | NA        | Philadelphia     | PA             | 19104           | NA      | benjamins@gmail.com  | 215-555-4444 | Strongly disagree          |\n",
       "| 11385273621 | Mae Jemison          | NASA             | NA      | NA        | Decatur          | Alabama        | 20104           | NA      | mjemison@nasa.gov    | 221-134-4646 | Strongly agree             |\n",
       "| 11385258069 | Carl Sagan           | Smithsonian      | NA      | NA        | Washington       | D.C.           | 33321           | NA      | stargazer@gmail.com  | 999-999-4422 | Neither agree nor disagree |\n",
       "| 11385253194 | W. E. B. Du Bois     | NAACP            | NA      | NA        | Great Barrington | MA             | 1230            | NA      | dubois@web.com       | 999-000-1234 | Strongly disagree          |\n",
       "| 11385240121 | Florence Nightingale | Public Health Co | NA      | NA        | Florence         | IT             | 33225           | NA      | firstnurse@aol.com   | 123-456-7899 | Disagree                   |\n",
       "| 11385226951 | Galileo Galilei      | NASA             | NA      | NA        | Pisa             | IT             | 12345           | NA      | galileo123@yahoo.com | 111-888-9944 | Agree                      |\n",
       "| 11385212508 | Albert Einstein      | ThinkTank        | NA      | NA        | Princeton        | NJ             | 8540            | NA      | imthinking@gmail.com | 215-999-8877 | Strongly agree             |\n",
       "\n"
      ],
      "text/plain": [
       "  Respondent ID Please provide your contact information: ...3            \n",
       "1          NA   Name                                     Company         \n",
       "2 11385284375   Benjamin Franklin                        Poor Richard's  \n",
       "3 11385273621   Mae Jemison                              NASA            \n",
       "4 11385258069   Carl Sagan                               Smithsonian     \n",
       "5 11385253194   W. E. B. Du Bois                         NAACP           \n",
       "6 11385240121   Florence Nightingale                     Public Health Co\n",
       "7 11385226951   Galileo Galilei                          NASA            \n",
       "8 11385212508   Albert Einstein                          ThinkTank       \n",
       "  ...4    ...5      ...6             ...7           ...8            ...9   \n",
       "1 Address Address 2 City/Town        State/Province ZIP/Postal Code Country\n",
       "2 NA      NA        Philadelphia     PA             19104           NA     \n",
       "3 NA      NA        Decatur          Alabama        20104           NA     \n",
       "4 NA      NA        Washington       D.C.           33321           NA     \n",
       "5 NA      NA        Great Barrington MA             1230            NA     \n",
       "6 NA      NA        Florence         IT             33225           NA     \n",
       "7 NA      NA        Pisa             IT             12345           NA     \n",
       "8 NA      NA        Princeton        NJ             8540            NA     \n",
       "  ...10                ...11       \n",
       "1 Email Address        Phone Number\n",
       "2 benjamins@gmail.com  215-555-4444\n",
       "3 mjemison@nasa.gov    221-134-4646\n",
       "4 stargazer@gmail.com  999-999-4422\n",
       "5 dubois@web.com       999-000-1234\n",
       "6 firstnurse@aol.com   123-456-7899\n",
       "7 galileo123@yahoo.com 111-888-9944\n",
       "8 imthinking@gmail.com 215-999-8877\n",
       "  I wish it would have snowed more this winter.\n",
       "1 Response                                     \n",
       "2 Strongly disagree                            \n",
       "3 Strongly agree                               \n",
       "4 Neither agree nor disagree                   \n",
       "5 Strongly disagree                            \n",
       "6 Disagree                                     \n",
       "7 Agree                                        \n",
       "8 Strongly agree                               "
      ]
     },
     "metadata": {},
     "output_type": "display_data"
    }
   ],
   "source": [
    "survey_data"
   ]
  },
  {
   "cell_type": "code",
   "execution_count": 12,
   "metadata": {
    "vscode": {
     "languageId": "r"
    }
   },
   "outputs": [],
   "source": [
    "double_header <- function(x) {\n",
    "  \n",
    "  df <- as_tibble(x)\n",
    "  \n",
    "  keydat <- df %>%\n",
    "    slice(1) %>%\n",
    "    select_if(negate(is.na)) %>%\n",
    "    pivot_longer(everything()) %>%\n",
    "    group_by(grp = cumsum(!startsWith(name, \"...\"))) %>%\n",
    "    mutate(value = sprintf(\"%s (%s)\", first(name), value)) %>%\n",
    "    ungroup %>%\n",
    "    select(-grp)\n",
    "  \n",
    "  df <- df %>%\n",
    "    rename_at(vars(keydat$name), ~ keydat$value) %>%\n",
    "    slice(-1) %>%\n",
    "    clean_names()\n",
    "}"
   ]
  },
  {
   "cell_type": "code",
   "execution_count": 13,
   "metadata": {
    "vscode": {
     "languageId": "r"
    }
   },
   "outputs": [
    {
     "ename": "ERROR",
     "evalue": "Error in select(., -grp): could not find function \"select\"\n",
     "output_type": "error",
     "traceback": [
      "Error in select(., -grp): could not find function \"select\"\nTraceback:\n",
      "1. double_header(survey_data)",
      "2. df %>% slice(1) %>% select_if(negate(is.na)) %>% pivot_longer(everything()) %>% \n .     group_by(grp = cumsum(!startsWith(name, \"...\"))) %>% mutate(value = sprintf(\"%s (%s)\", \n .     first(name), value)) %>% ungroup %>% select(-grp)   # at line 5-12 of file <text>"
     ]
    }
   ],
   "source": [
    "survey_data <- double_header(survey_data)"
   ]
  },
  {
   "cell_type": "code",
   "execution_count": 4,
   "metadata": {
    "vscode": {
     "languageId": "r"
    }
   },
   "outputs": [
    {
     "ename": "ERROR",
     "evalue": "Error in as_tibble(survey_data): object 'survey_data' not found\n",
     "output_type": "error",
     "traceback": [
      "Error in as_tibble(survey_data): object 'survey_data' not found\nTraceback:\n",
      "1. as_tibble(survey_data)"
     ]
    }
   ],
   "source": [
    "df <- as_tibble(survey_data)"
   ]
  },
  {
   "cell_type": "code",
   "execution_count": 14,
   "metadata": {
    "vscode": {
     "languageId": "r"
    }
   },
   "outputs": [
    {
     "data": {
      "text/html": [
       "<style>\n",
       ".list-inline {list-style: none; margin:0; padding: 0}\n",
       ".list-inline>li {display: inline-block}\n",
       ".list-inline>li:not(:last-child)::after {content: \"\\00b7\"; padding: 0 .5ex}\n",
       "</style>\n",
       "<ol class=list-inline><li>'Respondent ID'</li><li>'Please provide your contact information:'</li><li>'...3'</li><li>'...4'</li><li>'...5'</li><li>'...6'</li><li>'...7'</li><li>'...8'</li><li>'...9'</li><li>'...10'</li><li>'...11'</li><li>'I wish it would have snowed more this winter.'</li></ol>\n"
      ],
      "text/latex": [
       "\\begin{enumerate*}\n",
       "\\item 'Respondent ID'\n",
       "\\item 'Please provide your contact information:'\n",
       "\\item '...3'\n",
       "\\item '...4'\n",
       "\\item '...5'\n",
       "\\item '...6'\n",
       "\\item '...7'\n",
       "\\item '...8'\n",
       "\\item '...9'\n",
       "\\item '...10'\n",
       "\\item '...11'\n",
       "\\item 'I wish it would have snowed more this winter.'\n",
       "\\end{enumerate*}\n"
      ],
      "text/markdown": [
       "1. 'Respondent ID'\n",
       "2. 'Please provide your contact information:'\n",
       "3. '...3'\n",
       "4. '...4'\n",
       "5. '...5'\n",
       "6. '...6'\n",
       "7. '...7'\n",
       "8. '...8'\n",
       "9. '...9'\n",
       "10. '...10'\n",
       "11. '...11'\n",
       "12. 'I wish it would have snowed more this winter.'\n",
       "\n",
       "\n"
      ],
      "text/plain": [
       " [1] \"Respondent ID\"                                \n",
       " [2] \"Please provide your contact information:\"     \n",
       " [3] \"...3\"                                         \n",
       " [4] \"...4\"                                         \n",
       " [5] \"...5\"                                         \n",
       " [6] \"...6\"                                         \n",
       " [7] \"...7\"                                         \n",
       " [8] \"...8\"                                         \n",
       " [9] \"...9\"                                         \n",
       "[10] \"...10\"                                        \n",
       "[11] \"...11\"                                        \n",
       "[12] \"I wish it would have snowed more this winter.\""
      ]
     },
     "metadata": {},
     "output_type": "display_data"
    }
   ],
   "source": [
    "colnames(doubleheadr::demo)"
   ]
  },
  {
   "cell_type": "code",
   "execution_count": 17,
   "metadata": {
    "vscode": {
     "languageId": "r"
    }
   },
   "outputs": [
    {
     "data": {
      "text/html": [
       "<style>\n",
       ".list-inline {list-style: none; margin:0; padding: 0}\n",
       ".list-inline>li {display: inline-block}\n",
       ".list-inline>li:not(:last-child)::after {content: \"\\00b7\"; padding: 0 .5ex}\n",
       "</style>\n",
       "<ol class=list-inline><li>'respondent_id'</li><li>'name'</li><li>'company'</li><li>'address'</li><li>'address_2'</li><li>'city_town'</li><li>'state_province'</li><li>'zip_postal_code'</li><li>'country'</li><li>'email_address'</li><li>'phone_number'</li><li>'snowed_more_this_winter'</li></ol>\n"
      ],
      "text/latex": [
       "\\begin{enumerate*}\n",
       "\\item 'respondent\\_id'\n",
       "\\item 'name'\n",
       "\\item 'company'\n",
       "\\item 'address'\n",
       "\\item 'address\\_2'\n",
       "\\item 'city\\_town'\n",
       "\\item 'state\\_province'\n",
       "\\item 'zip\\_postal\\_code'\n",
       "\\item 'country'\n",
       "\\item 'email\\_address'\n",
       "\\item 'phone\\_number'\n",
       "\\item 'snowed\\_more\\_this\\_winter'\n",
       "\\end{enumerate*}\n"
      ],
      "text/markdown": [
       "1. 'respondent_id'\n",
       "2. 'name'\n",
       "3. 'company'\n",
       "4. 'address'\n",
       "5. 'address_2'\n",
       "6. 'city_town'\n",
       "7. 'state_province'\n",
       "8. 'zip_postal_code'\n",
       "9. 'country'\n",
       "10. 'email_address'\n",
       "11. 'phone_number'\n",
       "12. 'snowed_more_this_winter'\n",
       "\n",
       "\n"
      ],
      "text/plain": [
       " [1] \"respondent_id\"           \"name\"                   \n",
       " [3] \"company\"                 \"address\"                \n",
       " [5] \"address_2\"               \"city_town\"              \n",
       " [7] \"state_province\"          \"zip_postal_code\"        \n",
       " [9] \"country\"                 \"email_address\"          \n",
       "[11] \"phone_number\"            \"snowed_more_this_winter\""
      ]
     },
     "metadata": {},
     "output_type": "display_data"
    }
   ],
   "source": [
    "demo %>%\n",
    "    clean_headr(.,\"...\") %>%\n",
    "    trim_headr(., c(\"please_provide_your_contact_information_\",\n",
    "                  \"i_wish_it_would_have_\",\n",
    "                  \"_response\")) %>% \n",
    "    colnames(.)"
   ]
  },
  {
   "cell_type": "markdown",
   "metadata": {},
   "source": []
  }
 ],
 "metadata": {
  "kernelspec": {
   "display_name": "R",
   "language": "R",
   "name": "ir"
  },
  "language_info": {
   "codemirror_mode": "r",
   "file_extension": ".r",
   "mimetype": "text/x-r-source",
   "name": "R",
   "pygments_lexer": "r",
   "version": "4.2.2"
  },
  "orig_nbformat": 4,
  "vscode": {
   "interpreter": {
    "hash": "aee8b7b246df8f9039afb4144a1f6fd8d2ca17a180786b69acc140d282b71a49"
   }
  }
 },
 "nbformat": 4,
 "nbformat_minor": 2
}
